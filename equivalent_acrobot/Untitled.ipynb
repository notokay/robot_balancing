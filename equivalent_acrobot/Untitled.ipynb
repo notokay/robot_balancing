{
 "cells": [
  {
   "cell_type": "code",
   "execution_count": 9,
   "metadata": {
    "collapsed": false
   },
   "outputs": [],
   "source": [
    "from sympy import symbols, simplify, trigsimp, cos, sin, Matrix, solve, sympify, expand\n",
    "from sympy.physics.mechanics import dynamicsymbols\n",
    "from sympy.physics.vector import init_vprinting, vlatex\n",
    "init_vprinting(use_latex='mathjax')"
   ]
  },
  {
   "cell_type": "code",
   "execution_count": 45,
   "metadata": {
    "collapsed": true
   },
   "outputs": [],
   "source": [
    "theta_a, theta_p, theta_a_dot, theta_p_dot, theta_a_ddot, theta_p_ddot, = dynamicsymbols('theta_a, theta_p, thetadot_a, thetadot_p, thetaddot_a, thetaddot_p')\n",
    "m_aa, m_ap, m_pa, m_pp, b_a, b_p = dynamicsymbols('M_aa, M_ap, M_pa, M_pp, b_a, b_p')\n",
    "t_a, t_p = dynamicsymbols('tau_a, tau_p')\n",
    "theta_c, theta_c_dot, theta_c_ddot = dynamicsymbols('theta_c, thetadot_c, thetaddot_c')\n",
    "j_coma, j_comb, j_com_dot = dynamicsymbols('J_coma, J_comb Jdot_com')"
   ]
  },
  {
   "cell_type": "code",
   "execution_count": 47,
   "metadata": {
    "collapsed": false
   },
   "outputs": [],
   "source": [
    "mass_matrix = Matrix([[m_aa, m_ap], [m_pa, m_pp]])\n",
    "accelerations = Matrix([theta_a_ddot, theta_p_ddot])\n",
    "forcing = Matrix([b_a, b_p])\n",
    "torques = Matrix([t_a, t_p])\n",
    "eom = mass_matrix*accelerations - forcing"
   ]
  },
  {
   "cell_type": "code",
   "execution_count": 52,
   "metadata": {
    "collapsed": false
   },
   "outputs": [],
   "source": [
    "a_virt = solve(eom[0], [theta_a_ddot])[0]\n",
    "p_virt = solve(eom[1], [theta_p_ddot])[0]"
   ]
  },
  {
   "cell_type": "code",
   "execution_count": 53,
   "metadata": {
    "collapsed": false
   },
   "outputs": [],
   "source": [
    "p_virt_dict = dict(zip([theta_p_ddot], [p_virt]))\n",
    "a_virt_subbed = simplify(a_virt.subs(p_virt_dict))"
   ]
  },
  {
   "cell_type": "code",
   "execution_count": 13,
   "metadata": {
    "collapsed": false
   },
   "outputs": [
    {
     "data": {
      "text/latex": [
       "$$\\frac{1}{M_{aa} M_{pp}} \\left(\\left(M_{pa} \\ddot{\\theta}_{a} - b_{p}\\right) M_{ap} + M_{pp} b_{a}\\right)$$"
      ],
      "text/plain": [
       "(M_pa⋅θ̈ₐ - b_p)⋅M_ap + M_pp⋅bₐ\n",
       "───────────────────────────────\n",
       "            Mₐₐ⋅M_pp           "
      ]
     },
     "execution_count": 13,
     "metadata": {},
     "output_type": "execute_result"
    }
   ],
   "source": [
    "a_virt_subbed"
   ]
  },
  {
   "cell_type": "code",
   "execution_count": 23,
   "metadata": {
    "collapsed": false
   },
   "outputs": [],
   "source": [
    "a_terms = expand(a_virt_subbed).as_ordered_terms()\n",
    "a_virt_forcing = a_terms[1] + a_terms[2]\n",
    "p_terms = expand(b_virt).as_ordered_terms()\n",
    "p_virt_forcing = p_terms[1]\n",
    "\n",
    "acc_virt_mat = simplify(Matrix([[a_terms[0].diff(theta_a_ddot), a_virt_forcing], [p_terms[0].diff(theta_a_ddot), p_virt_forcing]]))"
   ]
  },
  {
   "cell_type": "code",
   "execution_count": 28,
   "metadata": {
    "collapsed": false
   },
   "outputs": [
    {
     "data": {
      "text/latex": [
       "$$\\left[\\begin{matrix}\\ddot{\\theta}_{a}\\\\1\\end{matrix}\\right]$$"
      ],
      "text/plain": [
       "⎡θ̈ₐ⎤\n",
       "⎢   ⎥\n",
       "⎣ 1 ⎦"
      ]
     },
     "execution_count": 28,
     "metadata": {},
     "output_type": "execute_result"
    }
   ],
   "source": [
    "acc_virt_mat_padded = acc_virt_mat.col_join(Matrix([[0, 1]]))\n",
    "acc_virt_mat_coefs = Matrix([theta_a_ddot, 1])\n",
    "acc_virt_mat_coefs"
   ]
  },
  {
   "cell_type": "code",
   "execution_count": 58,
   "metadata": {
    "collapsed": false
   },
   "outputs": [],
   "source": [
    "j_mat = Matrix([[j_coma, j_comb, j_com_dot]])\n",
    "t_c_subbed = j_mat*acc_virt_mat_padded*acc_virt_mat_coefs\n",
    "t_c_a = t_c_subbed.diff(theta_a_ddot)\n",
    "t_c_other = simplify(t_c_subbed - theta_a_ddot*t_c_a)\n",
    "t_a = simplify(Matrix([[t_c_a.inv()[0], t_c_other[0]/t_c_a[0]]]))\n",
    "t_a_coefs = Matrix([theta_c_ddot, 1])"
   ]
  },
  {
   "cell_type": "code",
   "execution_count": 61,
   "metadata": {
    "collapsed": false
   },
   "outputs": [],
   "source": [
    "t_a_dict = dict(zip([theta_a_ddot], [(simplify(t_a*t_a_coefs))[0]]))"
   ]
  },
  {
   "cell_type": "code",
   "execution_count": 69,
   "metadata": {
    "collapsed": false
   },
   "outputs": [
    {
     "data": {
      "text/latex": [
       "$$\\frac{M_{ap} b_{p}}{M_{pp}} - b_{a} + \\frac{J_{coma} M^{2}_{ap} b_{p}}{J_{coma} M_{ap} M_{pp} - J_{comb} M_{aa} M_{pp}} - \\frac{J_{comb} M_{aa} M_{ap} b_{p}}{J_{coma} M_{ap} M_{pp} - J_{comb} M_{aa} M_{pp}} - \\frac{J_{coma} M_{aa} M_{ap} b_{p}}{J_{coma} M_{ap} M_{pa} - J_{comb} M_{aa} M_{pa}} + \\frac{J_{coma} M_{aa} M_{pp} b_{a}}{J_{coma} M_{ap} M_{pa} - J_{comb} M_{aa} M_{pa}} + \\frac{J_{comb} M^{2}_{aa} b_{p}}{J_{coma} M_{ap} M_{pa} - J_{comb} M_{aa} M_{pa}} + \\frac{\\dot{J}_{com} M^{2}_{aa} M_{pp}}{J_{coma} M_{ap} M_{pa} - J_{comb} M_{aa} M_{pa}} + \\frac{M^{2}_{aa} M_{pp} \\ddot{\\theta}_{c}}{J_{coma} M_{ap} M_{pa} - J_{comb} M_{aa} M_{pa}} - \\frac{J_{coma} M_{ap} b_{a}}{J_{coma} M_{ap} - J_{comb} M_{aa}} - \\frac{\\dot{J}_{com} M_{aa} M_{ap}}{J_{coma} M_{ap} - J_{comb} M_{aa}} - \\frac{M_{aa} M_{ap} \\ddot{\\theta}_{c}}{J_{coma} M_{ap} - J_{comb} M_{aa}}$$"
      ],
      "text/plain": [
       "                                    2                                         \n",
       "M_ap⋅b_p                 J_coma⋅M_ap ⋅b_p                   J_comb⋅Mₐₐ⋅M_ap⋅b_\n",
       "──────── - bₐ + ────────────────────────────────── - ─────────────────────────\n",
       "  M_pp          J_coma⋅M_ap⋅M_pp - J_comb⋅Mₐₐ⋅M_pp   J_coma⋅M_ap⋅M_pp - J_comb\n",
       "\n",
       "                                                                              \n",
       "p                  J_coma⋅Mₐₐ⋅M_ap⋅b_p                   J_coma⋅Mₐₐ⋅M_pp⋅bₐ   \n",
       "───────── - ────────────────────────────────── + ─────────────────────────────\n",
       "⋅Mₐₐ⋅M_pp   J_coma⋅M_ap⋅M_pa - J_comb⋅Mₐₐ⋅M_pa   J_coma⋅M_ap⋅M_pa - J_comb⋅Mₐₐ\n",
       "\n",
       "                           2                                    2             \n",
       "                 J_comb⋅Mₐₐ ⋅b_p                      J̇_com⋅Mₐₐ ⋅M_pp        \n",
       "───── + ────────────────────────────────── + ─────────────────────────────────\n",
       "⋅M_pa   J_coma⋅M_ap⋅M_pa - J_comb⋅Mₐₐ⋅M_pa   J_coma⋅M_ap⋅M_pa - J_comb⋅Mₐₐ⋅M_p\n",
       "\n",
       "                 2                                                            \n",
       "              Mₐₐ ⋅M_pp⋅θ̈_c                  J_coma⋅M_ap⋅bₐ            J̇_com\n",
       "─ + ────────────────────────────────── - ──────────────────────── - ──────────\n",
       "a   J_coma⋅M_ap⋅M_pa - J_comb⋅Mₐₐ⋅M_pa   J_coma⋅M_ap - J_comb⋅Mₐₐ   J_coma⋅M_a\n",
       "\n",
       "                                         \n",
       "⋅Mₐₐ⋅M_ap             Mₐₐ⋅M_ap⋅θ̈_c      \n",
       "────────────── - ────────────────────────\n",
       "p - J_comb⋅Mₐₐ   J_coma⋅M_ap - J_comb⋅Mₐₐ"
      ]
     },
     "execution_count": 69,
     "metadata": {},
     "output_type": "execute_result"
    }
   ],
   "source": [
    "expand(eom[0].subs(p_virt_dict).subs(t_a_dict))"
   ]
  },
  {
   "cell_type": "code",
   "execution_count": null,
   "metadata": {
    "collapsed": true
   },
   "outputs": [],
   "source": []
  }
 ],
 "metadata": {
  "kernelspec": {
   "display_name": "Python 2",
   "language": "python",
   "name": "python2"
  },
  "language_info": {
   "codemirror_mode": {
    "name": "ipython",
    "version": 2
   },
   "file_extension": ".py",
   "mimetype": "text/x-python",
   "name": "python",
   "nbconvert_exporter": "python",
   "pygments_lexer": "ipython2",
   "version": "2.7.3"
  }
 },
 "nbformat": 4,
 "nbformat_minor": 0
}
